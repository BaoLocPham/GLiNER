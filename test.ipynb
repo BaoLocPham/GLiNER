{
 "cells": [
  {
   "cell_type": "code",
   "execution_count": 1,
   "id": "119db4b4",
   "metadata": {},
   "outputs": [
    {
     "name": "stdout",
     "output_type": "stream",
     "text": [
      "Processing /home/ingvar/Programming/Research/GLiNER\n",
      "  Installing build dependencies ... \u001b[?25ldone\n",
      "\u001b[?25h  Getting requirements to build wheel ... \u001b[?25ldone\n",
      "\u001b[?25h  Preparing metadata (pyproject.toml) ... \u001b[?25ldone\n",
      "\u001b[?25hCollecting torch>=2.0.0 (from gliner==0.2.20)\n",
      "  Using cached torch-2.7.1-cp312-cp312-manylinux_2_28_x86_64.whl.metadata (29 kB)\n",
      "Collecting transformers<=4.51.0,>=4.38.2 (from gliner==0.2.20)\n",
      "  Using cached transformers-4.51.0-py3-none-any.whl.metadata (38 kB)\n",
      "Collecting huggingface_hub>=0.21.4 (from gliner==0.2.20)\n",
      "  Using cached huggingface_hub-0.34.3-py3-none-any.whl.metadata (14 kB)\n",
      "Collecting tqdm (from gliner==0.2.20)\n",
      "  Using cached tqdm-4.67.1-py3-none-any.whl.metadata (57 kB)\n",
      "Collecting onnxruntime (from gliner==0.2.20)\n",
      "  Using cached onnxruntime-1.22.1-cp312-cp312-manylinux_2_27_x86_64.manylinux_2_28_x86_64.whl.metadata (4.9 kB)\n",
      "Collecting sentencepiece (from gliner==0.2.20)\n",
      "  Using cached sentencepiece-0.2.0-cp312-cp312-manylinux_2_17_x86_64.manylinux2014_x86_64.whl.metadata (7.7 kB)\n",
      "Collecting filelock (from huggingface_hub>=0.21.4->gliner==0.2.20)\n",
      "  Using cached filelock-3.18.0-py3-none-any.whl.metadata (2.9 kB)\n",
      "Collecting fsspec>=2023.5.0 (from huggingface_hub>=0.21.4->gliner==0.2.20)\n",
      "  Using cached fsspec-2025.7.0-py3-none-any.whl.metadata (12 kB)\n",
      "Requirement already satisfied: packaging>=20.9 in ./.venv/lib/python3.12/site-packages (from huggingface_hub>=0.21.4->gliner==0.2.20) (25.0)\n",
      "Collecting pyyaml>=5.1 (from huggingface_hub>=0.21.4->gliner==0.2.20)\n",
      "  Using cached PyYAML-6.0.2-cp312-cp312-manylinux_2_17_x86_64.manylinux2014_x86_64.whl.metadata (2.1 kB)\n",
      "Collecting requests (from huggingface_hub>=0.21.4->gliner==0.2.20)\n",
      "  Using cached requests-2.32.4-py3-none-any.whl.metadata (4.9 kB)\n",
      "Collecting typing-extensions>=3.7.4.3 (from huggingface_hub>=0.21.4->gliner==0.2.20)\n",
      "  Using cached typing_extensions-4.14.1-py3-none-any.whl.metadata (3.0 kB)\n",
      "Collecting hf-xet<2.0.0,>=1.1.3 (from huggingface_hub>=0.21.4->gliner==0.2.20)\n",
      "  Using cached hf_xet-1.1.5-cp37-abi3-manylinux_2_17_x86_64.manylinux2014_x86_64.whl.metadata (879 bytes)\n",
      "Collecting setuptools (from torch>=2.0.0->gliner==0.2.20)\n",
      "  Using cached setuptools-80.9.0-py3-none-any.whl.metadata (6.6 kB)\n",
      "Collecting sympy>=1.13.3 (from torch>=2.0.0->gliner==0.2.20)\n",
      "  Using cached sympy-1.14.0-py3-none-any.whl.metadata (12 kB)\n",
      "Collecting networkx (from torch>=2.0.0->gliner==0.2.20)\n",
      "  Using cached networkx-3.5-py3-none-any.whl.metadata (6.3 kB)\n",
      "Collecting jinja2 (from torch>=2.0.0->gliner==0.2.20)\n",
      "  Using cached jinja2-3.1.6-py3-none-any.whl.metadata (2.9 kB)\n",
      "Collecting nvidia-cuda-nvrtc-cu12==12.6.77 (from torch>=2.0.0->gliner==0.2.20)\n",
      "  Using cached nvidia_cuda_nvrtc_cu12-12.6.77-py3-none-manylinux2014_x86_64.whl.metadata (1.5 kB)\n",
      "Collecting nvidia-cuda-runtime-cu12==12.6.77 (from torch>=2.0.0->gliner==0.2.20)\n",
      "  Using cached nvidia_cuda_runtime_cu12-12.6.77-py3-none-manylinux2014_x86_64.manylinux_2_17_x86_64.whl.metadata (1.5 kB)\n",
      "Collecting nvidia-cuda-cupti-cu12==12.6.80 (from torch>=2.0.0->gliner==0.2.20)\n",
      "  Using cached nvidia_cuda_cupti_cu12-12.6.80-py3-none-manylinux2014_x86_64.manylinux_2_17_x86_64.whl.metadata (1.6 kB)\n",
      "Collecting nvidia-cudnn-cu12==9.5.1.17 (from torch>=2.0.0->gliner==0.2.20)\n",
      "  Using cached nvidia_cudnn_cu12-9.5.1.17-py3-none-manylinux_2_28_x86_64.whl.metadata (1.6 kB)\n",
      "Collecting nvidia-cublas-cu12==12.6.4.1 (from torch>=2.0.0->gliner==0.2.20)\n",
      "  Using cached nvidia_cublas_cu12-12.6.4.1-py3-none-manylinux2014_x86_64.manylinux_2_17_x86_64.whl.metadata (1.5 kB)\n",
      "Collecting nvidia-cufft-cu12==11.3.0.4 (from torch>=2.0.0->gliner==0.2.20)\n",
      "  Using cached nvidia_cufft_cu12-11.3.0.4-py3-none-manylinux2014_x86_64.manylinux_2_17_x86_64.whl.metadata (1.5 kB)\n",
      "Collecting nvidia-curand-cu12==10.3.7.77 (from torch>=2.0.0->gliner==0.2.20)\n",
      "  Using cached nvidia_curand_cu12-10.3.7.77-py3-none-manylinux2014_x86_64.manylinux_2_17_x86_64.whl.metadata (1.5 kB)\n",
      "Collecting nvidia-cusolver-cu12==11.7.1.2 (from torch>=2.0.0->gliner==0.2.20)\n",
      "  Using cached nvidia_cusolver_cu12-11.7.1.2-py3-none-manylinux2014_x86_64.manylinux_2_17_x86_64.whl.metadata (1.6 kB)\n",
      "Collecting nvidia-cusparse-cu12==12.5.4.2 (from torch>=2.0.0->gliner==0.2.20)\n",
      "  Using cached nvidia_cusparse_cu12-12.5.4.2-py3-none-manylinux2014_x86_64.manylinux_2_17_x86_64.whl.metadata (1.6 kB)\n",
      "Collecting nvidia-cusparselt-cu12==0.6.3 (from torch>=2.0.0->gliner==0.2.20)\n",
      "  Using cached nvidia_cusparselt_cu12-0.6.3-py3-none-manylinux2014_x86_64.whl.metadata (6.8 kB)\n",
      "Collecting nvidia-nccl-cu12==2.26.2 (from torch>=2.0.0->gliner==0.2.20)\n",
      "  Using cached nvidia_nccl_cu12-2.26.2-py3-none-manylinux2014_x86_64.manylinux_2_17_x86_64.whl.metadata (2.0 kB)\n",
      "Collecting nvidia-nvtx-cu12==12.6.77 (from torch>=2.0.0->gliner==0.2.20)\n",
      "  Using cached nvidia_nvtx_cu12-12.6.77-py3-none-manylinux2014_x86_64.manylinux_2_17_x86_64.whl.metadata (1.6 kB)\n",
      "Collecting nvidia-nvjitlink-cu12==12.6.85 (from torch>=2.0.0->gliner==0.2.20)\n",
      "  Using cached nvidia_nvjitlink_cu12-12.6.85-py3-none-manylinux2010_x86_64.manylinux_2_12_x86_64.whl.metadata (1.5 kB)\n",
      "Collecting nvidia-cufile-cu12==1.11.1.6 (from torch>=2.0.0->gliner==0.2.20)\n",
      "  Using cached nvidia_cufile_cu12-1.11.1.6-py3-none-manylinux2014_x86_64.manylinux_2_17_x86_64.whl.metadata (1.5 kB)\n",
      "Collecting triton==3.3.1 (from torch>=2.0.0->gliner==0.2.20)\n",
      "  Using cached triton-3.3.1-cp312-cp312-manylinux_2_27_x86_64.manylinux_2_28_x86_64.whl.metadata (1.5 kB)\n",
      "Collecting numpy>=1.17 (from transformers<=4.51.0,>=4.38.2->gliner==0.2.20)\n",
      "  Using cached numpy-2.3.2-cp312-cp312-manylinux_2_27_x86_64.manylinux_2_28_x86_64.whl.metadata (62 kB)\n",
      "Collecting regex!=2019.12.17 (from transformers<=4.51.0,>=4.38.2->gliner==0.2.20)\n",
      "  Using cached regex-2025.7.34-cp312-cp312-manylinux2014_x86_64.manylinux_2_17_x86_64.manylinux_2_28_x86_64.whl.metadata (40 kB)\n",
      "Collecting tokenizers<0.22,>=0.21 (from transformers<=4.51.0,>=4.38.2->gliner==0.2.20)\n",
      "  Using cached tokenizers-0.21.4-cp39-abi3-manylinux_2_17_x86_64.manylinux2014_x86_64.whl.metadata (6.7 kB)\n",
      "Collecting safetensors>=0.4.3 (from transformers<=4.51.0,>=4.38.2->gliner==0.2.20)\n",
      "  Using cached safetensors-0.5.3-cp38-abi3-manylinux_2_17_x86_64.manylinux2014_x86_64.whl.metadata (3.8 kB)\n",
      "Collecting coloredlogs (from onnxruntime->gliner==0.2.20)\n",
      "  Using cached coloredlogs-15.0.1-py2.py3-none-any.whl.metadata (12 kB)\n",
      "Collecting flatbuffers (from onnxruntime->gliner==0.2.20)\n",
      "  Using cached flatbuffers-25.2.10-py2.py3-none-any.whl.metadata (875 bytes)\n",
      "Collecting protobuf (from onnxruntime->gliner==0.2.20)\n",
      "  Using cached protobuf-6.31.1-cp39-abi3-manylinux2014_x86_64.whl.metadata (593 bytes)\n",
      "Collecting mpmath<1.4,>=1.1.0 (from sympy>=1.13.3->torch>=2.0.0->gliner==0.2.20)\n",
      "  Using cached mpmath-1.3.0-py3-none-any.whl.metadata (8.6 kB)\n",
      "Collecting humanfriendly>=9.1 (from coloredlogs->onnxruntime->gliner==0.2.20)\n",
      "  Using cached humanfriendly-10.0-py2.py3-none-any.whl.metadata (9.2 kB)\n",
      "Collecting MarkupSafe>=2.0 (from jinja2->torch>=2.0.0->gliner==0.2.20)\n",
      "  Using cached MarkupSafe-3.0.2-cp312-cp312-manylinux_2_17_x86_64.manylinux2014_x86_64.whl.metadata (4.0 kB)\n",
      "Collecting charset_normalizer<4,>=2 (from requests->huggingface_hub>=0.21.4->gliner==0.2.20)\n",
      "  Using cached charset_normalizer-3.4.2-cp312-cp312-manylinux_2_17_x86_64.manylinux2014_x86_64.whl.metadata (35 kB)\n",
      "Collecting idna<4,>=2.5 (from requests->huggingface_hub>=0.21.4->gliner==0.2.20)\n",
      "  Using cached idna-3.10-py3-none-any.whl.metadata (10 kB)\n",
      "Collecting urllib3<3,>=1.21.1 (from requests->huggingface_hub>=0.21.4->gliner==0.2.20)\n",
      "  Using cached urllib3-2.5.0-py3-none-any.whl.metadata (6.5 kB)\n",
      "Collecting certifi>=2017.4.17 (from requests->huggingface_hub>=0.21.4->gliner==0.2.20)\n",
      "  Using cached certifi-2025.8.3-py3-none-any.whl.metadata (2.4 kB)\n",
      "Using cached huggingface_hub-0.34.3-py3-none-any.whl (558 kB)\n",
      "Using cached torch-2.7.1-cp312-cp312-manylinux_2_28_x86_64.whl (821.0 MB)\n",
      "Using cached nvidia_cublas_cu12-12.6.4.1-py3-none-manylinux2014_x86_64.manylinux_2_17_x86_64.whl (393.1 MB)\n",
      "Using cached nvidia_cuda_cupti_cu12-12.6.80-py3-none-manylinux2014_x86_64.manylinux_2_17_x86_64.whl (8.9 MB)\n",
      "Using cached nvidia_cuda_nvrtc_cu12-12.6.77-py3-none-manylinux2014_x86_64.whl (23.7 MB)\n",
      "Using cached nvidia_cuda_runtime_cu12-12.6.77-py3-none-manylinux2014_x86_64.manylinux_2_17_x86_64.whl (897 kB)\n",
      "Using cached nvidia_cudnn_cu12-9.5.1.17-py3-none-manylinux_2_28_x86_64.whl (571.0 MB)\n",
      "Using cached nvidia_cufft_cu12-11.3.0.4-py3-none-manylinux2014_x86_64.manylinux_2_17_x86_64.whl (200.2 MB)\n",
      "Using cached nvidia_cufile_cu12-1.11.1.6-py3-none-manylinux2014_x86_64.manylinux_2_17_x86_64.whl (1.1 MB)\n",
      "Using cached nvidia_curand_cu12-10.3.7.77-py3-none-manylinux2014_x86_64.manylinux_2_17_x86_64.whl (56.3 MB)\n",
      "Using cached nvidia_cusolver_cu12-11.7.1.2-py3-none-manylinux2014_x86_64.manylinux_2_17_x86_64.whl (158.2 MB)\n",
      "Using cached nvidia_cusparse_cu12-12.5.4.2-py3-none-manylinux2014_x86_64.manylinux_2_17_x86_64.whl (216.6 MB)\n",
      "Using cached nvidia_cusparselt_cu12-0.6.3-py3-none-manylinux2014_x86_64.whl (156.8 MB)\n",
      "Using cached nvidia_nccl_cu12-2.26.2-py3-none-manylinux2014_x86_64.manylinux_2_17_x86_64.whl (201.3 MB)\n",
      "Using cached nvidia_nvjitlink_cu12-12.6.85-py3-none-manylinux2010_x86_64.manylinux_2_12_x86_64.whl (19.7 MB)\n",
      "Using cached nvidia_nvtx_cu12-12.6.77-py3-none-manylinux2014_x86_64.manylinux_2_17_x86_64.whl (89 kB)\n",
      "Using cached triton-3.3.1-cp312-cp312-manylinux_2_27_x86_64.manylinux_2_28_x86_64.whl (155.7 MB)\n",
      "Using cached tqdm-4.67.1-py3-none-any.whl (78 kB)\n",
      "Using cached transformers-4.51.0-py3-none-any.whl (10.4 MB)\n",
      "Using cached onnxruntime-1.22.1-cp312-cp312-manylinux_2_27_x86_64.manylinux_2_28_x86_64.whl (16.5 MB)\n",
      "Using cached sentencepiece-0.2.0-cp312-cp312-manylinux_2_17_x86_64.manylinux2014_x86_64.whl (1.3 MB)\n",
      "Using cached fsspec-2025.7.0-py3-none-any.whl (199 kB)\n",
      "Using cached hf_xet-1.1.5-cp37-abi3-manylinux_2_17_x86_64.manylinux2014_x86_64.whl (3.1 MB)\n",
      "Using cached numpy-2.3.2-cp312-cp312-manylinux_2_27_x86_64.manylinux_2_28_x86_64.whl (16.6 MB)\n",
      "Using cached PyYAML-6.0.2-cp312-cp312-manylinux_2_17_x86_64.manylinux2014_x86_64.whl (767 kB)\n",
      "Using cached regex-2025.7.34-cp312-cp312-manylinux2014_x86_64.manylinux_2_17_x86_64.manylinux_2_28_x86_64.whl (801 kB)\n",
      "Using cached safetensors-0.5.3-cp38-abi3-manylinux_2_17_x86_64.manylinux2014_x86_64.whl (471 kB)\n",
      "Using cached setuptools-80.9.0-py3-none-any.whl (1.2 MB)\n",
      "Using cached sympy-1.14.0-py3-none-any.whl (6.3 MB)\n",
      "Using cached tokenizers-0.21.4-cp39-abi3-manylinux_2_17_x86_64.manylinux2014_x86_64.whl (3.1 MB)\n",
      "Using cached typing_extensions-4.14.1-py3-none-any.whl (43 kB)\n",
      "Using cached coloredlogs-15.0.1-py2.py3-none-any.whl (46 kB)\n",
      "Using cached filelock-3.18.0-py3-none-any.whl (16 kB)\n",
      "Using cached flatbuffers-25.2.10-py2.py3-none-any.whl (30 kB)\n",
      "Using cached jinja2-3.1.6-py3-none-any.whl (134 kB)\n",
      "Using cached networkx-3.5-py3-none-any.whl (2.0 MB)\n",
      "Using cached protobuf-6.31.1-cp39-abi3-manylinux2014_x86_64.whl (321 kB)\n",
      "Using cached requests-2.32.4-py3-none-any.whl (64 kB)\n",
      "Using cached certifi-2025.8.3-py3-none-any.whl (161 kB)\n",
      "Using cached charset_normalizer-3.4.2-cp312-cp312-manylinux_2_17_x86_64.manylinux2014_x86_64.whl (148 kB)\n",
      "Using cached humanfriendly-10.0-py2.py3-none-any.whl (86 kB)\n",
      "Using cached idna-3.10-py3-none-any.whl (70 kB)\n",
      "Using cached MarkupSafe-3.0.2-cp312-cp312-manylinux_2_17_x86_64.manylinux2014_x86_64.whl (23 kB)\n",
      "Using cached mpmath-1.3.0-py3-none-any.whl (536 kB)\n",
      "Using cached urllib3-2.5.0-py3-none-any.whl (129 kB)\n",
      "Building wheels for collected packages: gliner\n",
      "  Building wheel for gliner (pyproject.toml) ... \u001b[?25ldone\n",
      "\u001b[?25h  Created wheel for gliner: filename=gliner-0.2.20-py3-none-any.whl size=70792 sha256=ca0634d56b9605e36fd9a0c36c5df0a7520da27e72478ff955c66aef9d1f2642\n",
      "  Stored in directory: /tmp/pip-ephem-wheel-cache-u4zojk9m/wheels/e8/bc/5c/b7a2bb96e51fc8985745d2a7402f3914b4f97c7c3ed514ac51\n",
      "Successfully built gliner\n",
      "Installing collected packages: sentencepiece, nvidia-cusparselt-cu12, mpmath, flatbuffers, urllib3, typing-extensions, tqdm, sympy, setuptools, safetensors, regex, pyyaml, protobuf, nvidia-nvtx-cu12, nvidia-nvjitlink-cu12, nvidia-nccl-cu12, nvidia-curand-cu12, nvidia-cufile-cu12, nvidia-cuda-runtime-cu12, nvidia-cuda-nvrtc-cu12, nvidia-cuda-cupti-cu12, nvidia-cublas-cu12, numpy, networkx, MarkupSafe, idna, humanfriendly, hf-xet, fsspec, filelock, charset_normalizer, certifi, triton, requests, nvidia-cusparse-cu12, nvidia-cufft-cu12, nvidia-cudnn-cu12, jinja2, coloredlogs, onnxruntime, nvidia-cusolver-cu12, huggingface_hub, torch, tokenizers, transformers, gliner\n",
      "Successfully installed MarkupSafe-3.0.2 certifi-2025.8.3 charset_normalizer-3.4.2 coloredlogs-15.0.1 filelock-3.18.0 flatbuffers-25.2.10 fsspec-2025.7.0 gliner-0.2.20 hf-xet-1.1.5 huggingface_hub-0.34.3 humanfriendly-10.0 idna-3.10 jinja2-3.1.6 mpmath-1.3.0 networkx-3.5 numpy-2.3.2 nvidia-cublas-cu12-12.6.4.1 nvidia-cuda-cupti-cu12-12.6.80 nvidia-cuda-nvrtc-cu12-12.6.77 nvidia-cuda-runtime-cu12-12.6.77 nvidia-cudnn-cu12-9.5.1.17 nvidia-cufft-cu12-11.3.0.4 nvidia-cufile-cu12-1.11.1.6 nvidia-curand-cu12-10.3.7.77 nvidia-cusolver-cu12-11.7.1.2 nvidia-cusparse-cu12-12.5.4.2 nvidia-cusparselt-cu12-0.6.3 nvidia-nccl-cu12-2.26.2 nvidia-nvjitlink-cu12-12.6.85 nvidia-nvtx-cu12-12.6.77 onnxruntime-1.22.1 protobuf-6.31.1 pyyaml-6.0.2 regex-2025.7.34 requests-2.32.4 safetensors-0.5.3 sentencepiece-0.2.0 setuptools-80.9.0 sympy-1.14.0 tokenizers-0.21.4 torch-2.7.1 tqdm-4.67.1 transformers-4.51.0 triton-3.3.1 typing-extensions-4.14.1 urllib3-2.5.0\n"
     ]
    }
   ],
   "source": [
    "!pip install ."
   ]
  },
  {
   "cell_type": "code",
   "execution_count": 3,
   "id": "7095f04c",
   "metadata": {},
   "outputs": [
    {
     "name": "stdout",
     "output_type": "stream",
     "text": [
      "Found existing installation: torch 2.7.1\n",
      "Uninstalling torch-2.7.1:\n",
      "  Successfully uninstalled torch-2.7.1\n"
     ]
    }
   ],
   "source": [
    "!pip uninstall torch -y"
   ]
  },
  {
   "cell_type": "code",
   "execution_count": 4,
   "id": "71f58873",
   "metadata": {},
   "outputs": [
    {
     "name": "stdout",
     "output_type": "stream",
     "text": [
      "Looking in indexes: https://download.pytorch.org/whl/cu128\n",
      "Collecting torch\n",
      "  Using cached https://download.pytorch.org/whl/cu128/torch-2.7.1%2Bcu128-cp312-cp312-manylinux_2_28_x86_64.whl.metadata (29 kB)\n",
      "Requirement already satisfied: torchvision in ./.venv/lib/python3.12/site-packages (0.22.1+cu128)\n",
      "Requirement already satisfied: torchaudio in ./.venv/lib/python3.12/site-packages (2.7.1+cu128)\n",
      "Requirement already satisfied: filelock in ./.venv/lib/python3.12/site-packages (from torch) (3.18.0)\n",
      "Requirement already satisfied: typing-extensions>=4.10.0 in ./.venv/lib/python3.12/site-packages (from torch) (4.14.1)\n",
      "Requirement already satisfied: setuptools in ./.venv/lib/python3.12/site-packages (from torch) (80.9.0)\n",
      "Requirement already satisfied: sympy>=1.13.3 in ./.venv/lib/python3.12/site-packages (from torch) (1.14.0)\n",
      "Requirement already satisfied: networkx in ./.venv/lib/python3.12/site-packages (from torch) (3.5)\n",
      "Requirement already satisfied: jinja2 in ./.venv/lib/python3.12/site-packages (from torch) (3.1.6)\n",
      "Requirement already satisfied: fsspec in ./.venv/lib/python3.12/site-packages (from torch) (2025.7.0)\n",
      "Collecting nvidia-cuda-nvrtc-cu12==12.8.61 (from torch)\n",
      "  Using cached https://download.pytorch.org/whl/cu128/nvidia_cuda_nvrtc_cu12-12.8.61-py3-none-manylinux2010_x86_64.manylinux_2_12_x86_64.whl.metadata (1.7 kB)\n",
      "Collecting nvidia-cuda-runtime-cu12==12.8.57 (from torch)\n",
      "  Using cached https://download.pytorch.org/whl/cu128/nvidia_cuda_runtime_cu12-12.8.57-py3-none-manylinux2014_x86_64.manylinux_2_17_x86_64.whl.metadata (1.7 kB)\n",
      "Collecting nvidia-cuda-cupti-cu12==12.8.57 (from torch)\n",
      "  Using cached https://download.pytorch.org/whl/cu128/nvidia_cuda_cupti_cu12-12.8.57-py3-none-manylinux2014_x86_64.manylinux_2_17_x86_64.whl.metadata (1.7 kB)\n",
      "Collecting nvidia-cudnn-cu12==9.7.1.26 (from torch)\n",
      "  Using cached https://download.pytorch.org/whl/cu128/nvidia_cudnn_cu12-9.7.1.26-py3-none-manylinux_2_27_x86_64.whl.metadata (1.8 kB)\n",
      "Collecting nvidia-cublas-cu12==12.8.3.14 (from torch)\n",
      "  Using cached https://download.pytorch.org/whl/cu128/nvidia_cublas_cu12-12.8.3.14-py3-none-manylinux_2_27_x86_64.whl.metadata (1.7 kB)\n",
      "Collecting nvidia-cufft-cu12==11.3.3.41 (from torch)\n",
      "  Using cached https://download.pytorch.org/whl/cu128/nvidia_cufft_cu12-11.3.3.41-py3-none-manylinux2014_x86_64.manylinux_2_17_x86_64.whl.metadata (1.5 kB)\n",
      "Collecting nvidia-curand-cu12==10.3.9.55 (from torch)\n",
      "  Using cached https://download.pytorch.org/whl/cu128/nvidia_curand_cu12-10.3.9.55-py3-none-manylinux_2_27_x86_64.whl.metadata (1.5 kB)\n",
      "Collecting nvidia-cusolver-cu12==11.7.2.55 (from torch)\n",
      "  Using cached https://download.pytorch.org/whl/cu128/nvidia_cusolver_cu12-11.7.2.55-py3-none-manylinux_2_27_x86_64.whl.metadata (1.6 kB)\n",
      "Collecting nvidia-cusparse-cu12==12.5.7.53 (from torch)\n",
      "  Using cached https://download.pytorch.org/whl/cu128/nvidia_cusparse_cu12-12.5.7.53-py3-none-manylinux2014_x86_64.manylinux_2_17_x86_64.whl.metadata (1.6 kB)\n",
      "Requirement already satisfied: nvidia-cusparselt-cu12==0.6.3 in ./.venv/lib/python3.12/site-packages (from torch) (0.6.3)\n",
      "Requirement already satisfied: nvidia-nccl-cu12==2.26.2 in ./.venv/lib/python3.12/site-packages (from torch) (2.26.2)\n",
      "Collecting nvidia-nvtx-cu12==12.8.55 (from torch)\n",
      "  Using cached https://download.pytorch.org/whl/cu128/nvidia_nvtx_cu12-12.8.55-py3-none-manylinux2014_x86_64.manylinux_2_17_x86_64.whl.metadata (1.6 kB)\n",
      "Collecting nvidia-nvjitlink-cu12==12.8.61 (from torch)\n",
      "  Using cached https://download.pytorch.org/whl/cu128/nvidia_nvjitlink_cu12-12.8.61-py3-none-manylinux2010_x86_64.manylinux_2_12_x86_64.whl.metadata (1.7 kB)\n",
      "Collecting nvidia-cufile-cu12==1.13.0.11 (from torch)\n",
      "  Using cached https://download.pytorch.org/whl/cu128/nvidia_cufile_cu12-1.13.0.11-py3-none-manylinux2014_x86_64.manylinux_2_17_x86_64.whl.metadata (1.5 kB)\n",
      "Requirement already satisfied: triton==3.3.1 in ./.venv/lib/python3.12/site-packages (from torch) (3.3.1)\n",
      "Requirement already satisfied: numpy in ./.venv/lib/python3.12/site-packages (from torchvision) (2.3.2)\n",
      "Requirement already satisfied: pillow!=8.3.*,>=5.3.0 in ./.venv/lib/python3.12/site-packages (from torchvision) (11.0.0)\n",
      "Requirement already satisfied: mpmath<1.4,>=1.1.0 in ./.venv/lib/python3.12/site-packages (from sympy>=1.13.3->torch) (1.3.0)\n",
      "Requirement already satisfied: MarkupSafe>=2.0 in ./.venv/lib/python3.12/site-packages (from jinja2->torch) (3.0.2)\n",
      "Using cached https://download.pytorch.org/whl/cu128/torch-2.7.1%2Bcu128-cp312-cp312-manylinux_2_28_x86_64.whl (1039.2 MB)\n",
      "Using cached https://download.pytorch.org/whl/cu128/nvidia_cublas_cu12-12.8.3.14-py3-none-manylinux_2_27_x86_64.whl (609.6 MB)\n",
      "Using cached https://download.pytorch.org/whl/cu128/nvidia_cuda_cupti_cu12-12.8.57-py3-none-manylinux2014_x86_64.manylinux_2_17_x86_64.whl (10.2 MB)\n",
      "Using cached https://download.pytorch.org/whl/cu128/nvidia_cuda_nvrtc_cu12-12.8.61-py3-none-manylinux2010_x86_64.manylinux_2_12_x86_64.whl (88.0 MB)\n",
      "Using cached https://download.pytorch.org/whl/cu128/nvidia_cuda_runtime_cu12-12.8.57-py3-none-manylinux2014_x86_64.manylinux_2_17_x86_64.whl (954 kB)\n",
      "Using cached https://download.pytorch.org/whl/cu128/nvidia_cudnn_cu12-9.7.1.26-py3-none-manylinux_2_27_x86_64.whl (726.9 MB)\n",
      "Using cached https://download.pytorch.org/whl/cu128/nvidia_cufft_cu12-11.3.3.41-py3-none-manylinux2014_x86_64.manylinux_2_17_x86_64.whl (193.1 MB)\n",
      "Using cached https://download.pytorch.org/whl/cu128/nvidia_cufile_cu12-1.13.0.11-py3-none-manylinux2014_x86_64.manylinux_2_17_x86_64.whl (1.2 MB)\n",
      "Using cached https://download.pytorch.org/whl/cu128/nvidia_curand_cu12-10.3.9.55-py3-none-manylinux_2_27_x86_64.whl (63.6 MB)\n",
      "Using cached https://download.pytorch.org/whl/cu128/nvidia_cusolver_cu12-11.7.2.55-py3-none-manylinux_2_27_x86_64.whl (260.4 MB)\n",
      "Using cached https://download.pytorch.org/whl/cu128/nvidia_cusparse_cu12-12.5.7.53-py3-none-manylinux2014_x86_64.manylinux_2_17_x86_64.whl (292.1 MB)\n",
      "Using cached https://download.pytorch.org/whl/cu128/nvidia_nvjitlink_cu12-12.8.61-py3-none-manylinux2010_x86_64.manylinux_2_12_x86_64.whl (39.2 MB)\n",
      "Using cached https://download.pytorch.org/whl/cu128/nvidia_nvtx_cu12-12.8.55-py3-none-manylinux2014_x86_64.manylinux_2_17_x86_64.whl (89 kB)\n",
      "Installing collected packages: nvidia-nvtx-cu12, nvidia-nvjitlink-cu12, nvidia-curand-cu12, nvidia-cufile-cu12, nvidia-cuda-runtime-cu12, nvidia-cuda-nvrtc-cu12, nvidia-cuda-cupti-cu12, nvidia-cublas-cu12, nvidia-cusparse-cu12, nvidia-cufft-cu12, nvidia-cudnn-cu12, nvidia-cusolver-cu12, torch\n",
      "  Attempting uninstall: nvidia-nvtx-cu12\n",
      "    Found existing installation: nvidia-nvtx-cu12 12.6.77\n",
      "    Uninstalling nvidia-nvtx-cu12-12.6.77:\n",
      "      Successfully uninstalled nvidia-nvtx-cu12-12.6.77\n",
      "  Attempting uninstall: nvidia-nvjitlink-cu12\n",
      "    Found existing installation: nvidia-nvjitlink-cu12 12.6.85\n",
      "    Uninstalling nvidia-nvjitlink-cu12-12.6.85:\n",
      "      Successfully uninstalled nvidia-nvjitlink-cu12-12.6.85\n",
      "  Attempting uninstall: nvidia-curand-cu12\n",
      "    Found existing installation: nvidia-curand-cu12 10.3.7.77\n",
      "    Uninstalling nvidia-curand-cu12-10.3.7.77:\n",
      "      Successfully uninstalled nvidia-curand-cu12-10.3.7.77\n",
      "  Attempting uninstall: nvidia-cufile-cu12\n",
      "    Found existing installation: nvidia-cufile-cu12 1.11.1.6\n",
      "    Uninstalling nvidia-cufile-cu12-1.11.1.6:\n",
      "      Successfully uninstalled nvidia-cufile-cu12-1.11.1.6\n",
      "  Attempting uninstall: nvidia-cuda-runtime-cu12\n",
      "    Found existing installation: nvidia-cuda-runtime-cu12 12.6.77\n",
      "    Uninstalling nvidia-cuda-runtime-cu12-12.6.77:\n",
      "      Successfully uninstalled nvidia-cuda-runtime-cu12-12.6.77\n",
      "  Attempting uninstall: nvidia-cuda-nvrtc-cu12\n",
      "    Found existing installation: nvidia-cuda-nvrtc-cu12 12.6.77\n",
      "    Uninstalling nvidia-cuda-nvrtc-cu12-12.6.77:\n",
      "      Successfully uninstalled nvidia-cuda-nvrtc-cu12-12.6.77\n",
      "  Attempting uninstall: nvidia-cuda-cupti-cu12\n",
      "    Found existing installation: nvidia-cuda-cupti-cu12 12.6.80\n",
      "    Uninstalling nvidia-cuda-cupti-cu12-12.6.80:\n",
      "      Successfully uninstalled nvidia-cuda-cupti-cu12-12.6.80\n",
      "  Attempting uninstall: nvidia-cublas-cu12\n",
      "    Found existing installation: nvidia-cublas-cu12 12.6.4.1\n",
      "    Uninstalling nvidia-cublas-cu12-12.6.4.1:\n",
      "      Successfully uninstalled nvidia-cublas-cu12-12.6.4.1\n",
      "  Attempting uninstall: nvidia-cusparse-cu12\n",
      "    Found existing installation: nvidia-cusparse-cu12 12.5.4.2\n",
      "    Uninstalling nvidia-cusparse-cu12-12.5.4.2:\n",
      "      Successfully uninstalled nvidia-cusparse-cu12-12.5.4.2\n",
      "  Attempting uninstall: nvidia-cufft-cu12\n",
      "    Found existing installation: nvidia-cufft-cu12 11.3.0.4\n",
      "    Uninstalling nvidia-cufft-cu12-11.3.0.4:\n",
      "      Successfully uninstalled nvidia-cufft-cu12-11.3.0.4\n",
      "  Attempting uninstall: nvidia-cudnn-cu12\n",
      "    Found existing installation: nvidia-cudnn-cu12 9.5.1.17\n",
      "    Uninstalling nvidia-cudnn-cu12-9.5.1.17:\n",
      "      Successfully uninstalled nvidia-cudnn-cu12-9.5.1.17\n",
      "  Attempting uninstall: nvidia-cusolver-cu12\n",
      "    Found existing installation: nvidia-cusolver-cu12 11.7.1.2\n",
      "    Uninstalling nvidia-cusolver-cu12-11.7.1.2:\n",
      "      Successfully uninstalled nvidia-cusolver-cu12-11.7.1.2\n",
      "Successfully installed nvidia-cublas-cu12-12.8.3.14 nvidia-cuda-cupti-cu12-12.8.57 nvidia-cuda-nvrtc-cu12-12.8.61 nvidia-cuda-runtime-cu12-12.8.57 nvidia-cudnn-cu12-9.7.1.26 nvidia-cufft-cu12-11.3.3.41 nvidia-cufile-cu12-1.13.0.11 nvidia-curand-cu12-10.3.9.55 nvidia-cusolver-cu12-11.7.2.55 nvidia-cusparse-cu12-12.5.7.53 nvidia-nvjitlink-cu12-12.8.61 nvidia-nvtx-cu12-12.8.55 torch-2.7.1+cu128\n"
     ]
    }
   ],
   "source": [
    "!pip3 install torch torchvision torchaudio --index-url https://download.pytorch.org/whl/cu128\n",
    "\n"
   ]
  },
  {
   "cell_type": "code",
   "execution_count": 3,
   "id": "d78ed497",
   "metadata": {},
   "outputs": [
    {
     "name": "stderr",
     "output_type": "stream",
     "text": [
      "Fetching 10 files: 100%|██████████| 10/10 [02:11<00:00, 13.18s/it]\n"
     ]
    }
   ],
   "source": [
    "from gliner import GLiNER\n",
    "model = GLiNER.from_pretrained(\"knowledgator/gliner-decoder-small-v1.0\").to('cuda').float()"
   ]
  },
  {
   "cell_type": "code",
   "execution_count": 7,
   "id": "a26ce66b",
   "metadata": {},
   "outputs": [
    {
     "name": "stdout",
     "output_type": "stream",
     "text": [
      "69.4 ms ± 1.61 ms per loop (mean ± std. dev. of 7 runs, 10 loops each)\n"
     ]
    }
   ],
   "source": [
    "%%timeit\n",
    "# text = \"\"\"\n",
    "# Kyiv is the capital of Ukraine.\n",
    "# \"\"\"\n",
    "\n",
    "# text = \"\"\"\n",
    "# Libretto by Marius Petipa, based on the 1822 novella ``Trilby, ou Le Lutin d'Argail`` by Charles Nodier, first presented by the Ballet of the Moscow Imperial Bolshoi Theatre on January 25/February 6 (Julian/Gregorian calendar dates), 1870, in Moscow with Polina Karpakova as Trilby and Ludiia Geiten as Miranda and restaged by Petipa for the Imperial Ballet at the Imperial Bolshoi Kamenny Theatre on January 17–29, 1871 in St. Petersburg with Adèle Grantzow as Trilby and Lev Ivanov as Count Leopold.\n",
    "# \"\"\"\n",
    "\n",
    "text = \"GLiNER is a Named Entity Recognition (NER) model capable of identifying any entity type using a bidirectional transformer encoders (BERT-like). It provides a practical alternative to traditional NER models, which are limited to predefined entities, and Large Language Models (LLMs) that, despite their flexibility, are costly and large for resource-constrained scenarios.\"\n",
    "\n",
    "# text = \"Ukraine[a] is a country in Eastern Europe. It is the second-largest country in Europe after Russia, which borders it to the east and northeast.[b] Ukraine also borders Belarus to the north; Poland and Slovakia to the west; Hungary, Romania and Moldova[c] to the southwest; and the Black Sea and the Sea of Azov to the south and southeast.[d] Kyiv is the nation's capital and largest city, followed by Kharkiv, Odesa, and Dnipro. Ukraine's official language is Ukrainian. \"\n",
    "\n",
    "text = \"Apple was founded as Apple Computer Company on April 1, 1976, by Steve Wozniak, Steve Jobs (1955–2011) and Ronald Wayne to develop and sell Wozniak's Apple I personal computer.\"\n",
    "\n",
    "text = \"Longevity AI drug discovery company Insilico Medicine has completed a $35 million Series D2 round, bringing the total raised in its Series D financing to $95 million. The new round was led by Prosperity7 Ventures, the diversified growth fund of Aramco Ventures, a subsidiary of Aramco, the world’s leading integrated energy and chemicals company.\"\n",
    "\n",
    "text = \"Microsoft was founded by Bill Gates and Paul Allen on April 4, 1975 to develop and sell BASIC interpreters for the Altair 8800. During his career at Microsoft, Gates held the positions of chairman, chief executive officer, president and chief software architect, while also being the largest individual shareholder until May 2014.\"\n",
    "\n",
    "text = \"\"\"Dr. Paul Hammond, a renowned neurologist at Johns Hopkins University, has recently published a paper in the prestigious journal \"Nature Neuroscience\". His research focuses on a rare genetic mutation, found in less than 0.01% of the population, that appears to prevent the development of Alzheimer's disease. Collaborating with researchers at the University of California, San Francisco, the team is now working to understand the mechanism by which this mutation confers its protective effect. Funded by the National Institutes of Health, their research could potentially open new avenues for Alzheimer's treatment.\"\"\"\n",
    "\n",
    "# text = \"\"\"ChipMakerZ Reports Strong Q3 Financial Results, Surpasses Expectations (October 15, 2022) ChipMakerZ (LKASD: CMZX) has reported strong Q3 financial results, exceeding market expectations. The technological company recorded a revenue of USD 3.7 billion, representing a 15% increase from the previous quarter. This growth was driven by strong sales of its flagship products and the successful launch of its new line of processors. In addition to revenue growth, ChipMakerZ also reported an EPS of USD 2.50, up from USD 1.75 in the previous quarter. The company's gross margin also improved by 3 percentage points to 60%, reflecting its focus on cost management and operational efficiency. ChipMakerZ's management team will discuss the Q3 financial results in further detail during a conference call on October 22nd.\"\"\"\n",
    "\n",
    "labels = [\"label\"]\n",
    "entities = model.run([text], labels, threshold=0.1)\n",
    "# for entity in entities:\n",
    "#     print(entity)\n",
    "    # print(entity[\"text\"], \"=>\", entity[\"label\"])"
   ]
  },
  {
   "cell_type": "code",
   "execution_count": 3,
   "id": "f3c020f0",
   "metadata": {},
   "outputs": [
    {
     "data": {
      "text/plain": [
       "'HuggingFaceTB/SmolLM2-135M-Instruct'"
      ]
     },
     "execution_count": 3,
     "metadata": {},
     "output_type": "execute_result"
    }
   ],
   "source": [
    "model.config.labels_decoder"
   ]
  },
  {
   "cell_type": "code",
   "execution_count": 16,
   "id": "ef90a9b3",
   "metadata": {},
   "outputs": [],
   "source": [
    "from transformers import AutoTokenizer\n",
    "\n",
    "tokenizer = AutoTokenizer.from_pretrained(\"HuggingFaceTB/SmolLM2-135M-Instruct\", add_prefix_space=True)"
   ]
  },
  {
   "cell_type": "code",
   "execution_count": 28,
   "id": "6c900ac9",
   "metadata": {},
   "outputs": [
    {
     "data": {
      "text/plain": [
       "{'input_ids': tensor([[19556,   905,  5728]]), 'attention_mask': tensor([[1, 1, 1]])}"
      ]
     },
     "execution_count": 28,
     "metadata": {},
     "output_type": "execute_result"
    }
   ],
   "source": [
    "input_texts = [[\"Hello\", \" world\", \" !\"]]\n",
    "decoder_tokenized_inputs = tokenizer(\n",
    "    input_texts,\n",
    "    is_split_into_words=True,\n",
    "    return_tensors=\"pt\",\n",
    "    truncation=True,\n",
    "    padding=\"longest\",\n",
    "    )\n",
    "decoder_tokenized_inputs"
   ]
  },
  {
   "cell_type": "code",
   "execution_count": 29,
   "id": "967a8a92",
   "metadata": {},
   "outputs": [
    {
     "data": {
      "text/plain": [
       "{'input_ids': tensor([[19556,   905,  5728]]), 'attention_mask': tensor([[1, 1, 1]])}"
      ]
     },
     "execution_count": 29,
     "metadata": {},
     "output_type": "execute_result"
    }
   ],
   "source": [
    "input_texts = [\"Hello world !\"]\n",
    "decoder_tokenized_inputs = tokenizer(\n",
    "    input_texts,\n",
    "    is_split_into_words=False,\n",
    "    return_tensors=\"pt\",\n",
    "    truncation=True,\n",
    "    padding=\"longest\",\n",
    "    )\n",
    "\n",
    "decoder_tokenized_inputs"
   ]
  },
  {
   "cell_type": "code",
   "execution_count": 36,
   "id": "8f473fd7",
   "metadata": {},
   "outputs": [
    {
     "data": {
      "text/plain": [
       "['Hello world !']"
      ]
     },
     "execution_count": 36,
     "metadata": {},
     "output_type": "execute_result"
    }
   ],
   "source": [
    "tokenizer.batch_decode(decoder_tokenized_inputs['input_ids'])"
   ]
  },
  {
   "cell_type": "code",
   "execution_count": 2,
   "id": "bbdb0788",
   "metadata": {},
   "outputs": [
    {
     "name": "stdout",
     "output_type": "stream",
     "text": [
      " kadesh *** Command\n",
      " urchatz *** Command\n",
      " Kadesh *** Command\n",
      " Urchatz *** Command\n",
      " Karpas *** Food\n",
      " Yachatz *** Action\n",
      " Magid *** Person\n",
      " Rochtza *** Action\n",
      " Motzi *** Action\n",
      " Matza *** Food\n",
      " Maror *** Food\n",
      " Korech *** Action\n",
      " Shulchan orech *** Action\n",
      " Tzafun *** Object\n",
      " Barech *** Command\n",
      " Halel *** Command\n",
      " Acoustic Model *** Piezo-electric transducer\n",
      " acoustic guitar *** Musical instrument\n",
      " Acoustic Model *** Piezo-electric transducer\n",
      " Acoustic Model *** Piezo-electric transducer\n",
      " Acoustic Model *** Piezo-electric transducer\n",
      " acoustic guitar *** Musical instrument\n",
      " Acoustic Model *** Piezo-electric transducer\n"
     ]
    }
   ],
   "source": [
    "spans = [' Recent Advances', ' drug metabolism', ' Phytochemicals', ' herbal medicines', ' cancer', ' heart disease', ' diabetes', ' high blood pressure', ' past decade', ' phytochemical metabolism', ' valuable leading compounds of new drugs', ' numerous analogs', ' complex endogenous matrices', ' multi-components', ' biofluids and cell or tissue extracts', ' phytochemical metabolism', ' suitable bioanalytical tools and strategies', ' literature from 2009 to 2014', ' phytochemical metabolism', ' GOP', ' Alabama', ' Alabama state Sen . Shadrack McGill', ' Fort Payne , Ala .', ' GOP', ' Montgomery Advertiser', ' recent report', ' Alabama', ' nation', ' Dothan Eagle', ' national average starting salary for a teacher', ' <<ENT>> label <<SEP>> Someone alert the unions : raising teacher pay will actually make', ' <<ENT>> label <<SEP>> Someone alert the unions : raising teacher pay will actually make', ' <<ENT>> label <<SEP>> Someone alert the unions : raising teacher pay will actually make', ' <<ENT>> label <<SEP>> Someone alert the unions : raising teacher pay will actually make', ' <<ENT>> label <<SEP>> Someone alert the unions : raising teacher pay will actually make', ' <<ENT>> label <<SEP>> Someone alert the unions : raising teacher pay will actually make', ' <<ENT>> label <<SEP>> Someone alert the unions : raising teacher pay will actually make', ' <<ENT>> label <<SEP>> Someone alert the unions : raising teacher pay will actually make']\n",
    "labels = ['Publication', 'Subject', 'Chemical Substance', 'Organization', 'Disease', 'Disease', 'Disease', 'Disease', 'Time', 'Subject', 'Subject', 'Quantity', 'Substance', 'Quantity', 'Substance', 'Subject', 'Instrument', 'Publication', 'Subject', 'Organization', 'Location', 'Politician', 'Location', 'Organization', 'Media', 'Document', 'Location', 'Location', 'Media', 'Quantity']\n",
    "\n",
    "\n",
    "spans = [' Becki Blankenship', ' <<ENT>> label <<SEP>> The proposal should be submitted via email in one pdf file', ' <<ENT>> label <<SEP>> The proposal should be submitted via email in one pdf file', ' <<ENT>> label <<SEP>> The proposal should be submitted via email in one pdf file', ' <<ENT>> label <<SEP>> The proposal should be submitted via email in one pdf file', ' <<ENT>> label <<SEP>> The proposal should be submitted via email in one pdf file', ' <<ENT>> label <<SEP>> The proposal should be submitted via email in one pdf file', ' <<ENT>> label <<SEP>> The proposal should be submitted via email in one pdf file', ' <<ENT>> label <<SEP>> The proposal should be submitted via email in one pdf file', ' <<ENT>> label <<SEP>> The proposal should be submitted via email in one pdf file', ' <<ENT>> label <<SEP>> The proposal should be submitted via email in one pdf file', ' <<ENT>> label <<SEP>> The proposal should be submitted via email in one pdf file', ' <<ENT>> label <<SEP>> The proposal should be submitted via email in one pdf file', ' <<ENT>> label <<SEP>> The proposal should be submitted via email in one pdf file', ' <<ENT>> label <<SEP>> The proposal should be submitted via email in one pdf file', ' <<ENT>> label <<SEP>> The proposal should be submitted via email in one pdf file', ' Entertainment Earth', ' Infinity Gauntlet', ' Marvel Universe', ' Infinity Gauntlet', ' Entertainment Earth', ' San Diego Comic Con', ' Avengers : Infinity War', ' Infinity Gauntlet', ' Entertainment Earth', ' San Diego Comic Con', ' Infinity Gauntlet', ' Infinity Gauntlet', ' Entertainment Earth', ' Avengers : Infinity War', ' Infinity Gauntlet', ' Infinity Gauntlet']\n",
    "labels = ['Person', 'Retailer', 'Retailer', 'Retailer', 'Retailer', 'Movie', 'Movie', 'Marvel Universe', 'Marvel Universe', 'Marvel Universe', 'Marvel Universe', 'Marvel Universe', 'Marvel Universe', 'Marvel Universe', 'Comic Book Universe', 'Convention', 'Convention']\n",
    "\n",
    "\n",
    "spans = [' AAP', ' BJP', ' BJP', ' Arvind Kejriwal', ' AAP', ' Union Home Minister', ' PTI', ' aap', ' bjp', ' BJP', ' Arvind Kejriwal', ' AAP', ' Union Home Minister', ' BJP', ' AAP', ' Arun Jaitly', ' AAP', ' AAP', ' Shane McFaul', ' <<ENT>> label <<SEP>> Shane McFaul Shane Charles Alan McFaul ( born 23 May 1986', ' <<ENT>> label <<SEP>> Shane McFaul Shane Charles Alan McFaul ( born 23 May 1986', ' <<ENT>> label <<SEP>> Shane McFaul Shane Charles Alan McFaul ( born 23 May 1986', ' <<ENT>> label <<SEP>> Shane McFaul Shane Charles Alan McFaul ( born 23 May 1986', ' <<ENT>> label <<SEP>> Shane McFaul Shane Charles Alan McFaul ( born 23 May 1986', ' <<ENT>> label <<SEP>> Shane McFaul Shane Charles Alan McFaul ( born 23 May 1986', ' <<ENT>> label <<SEP>> Shane McFaul Shane Charles Alan McFaul ( born 23 May 1986', ' <<ENT>> label <<SEP>> Shane McFaul Shane Charles Alan McFaul ( born 23 May 1986', ' <<ENT>> label <<SEP>> Shane McFaul Shane Charles Alan McFaul ( born 23 May 1986', ' <<ENT>> label <<SEP>> Shane McFaul Shane Charles Alan McFaul ( born 23 May 1986', ' <<ENT>> label <<SEP>> Shane McFaul Shane Charles Alan McFaul ( born 23 May 1986', ' <<ENT>> label <<SEP>> Shane McFaul Shane Charles Alan McFaul ( born 23 May 1986', ' <<ENT>> label <<SEP>> Shane McFaul Shane Charles Alan McFaul ( born 23 May 1986', ' <<ENT>> label <<SEP>> Shane McFaul Shane Charles Alan McFaul ( born 23 May 1986', ' <<ENT>> label <<SEP>> Shane McFaul Shane Charles Alan McFaul ( born 23 May 1986', ' <<ENT>> label <<SEP>> Shane McFaul Shane Charles Alan McFaul ( born 23 May 1986', ' <<ENT>> label <<SEP>> Shane McFaul Shane Charles Alan McFaul ( born 23 May 1986']\n",
    "labels = ['Politician', 'Politician', 'Organization', 'Organization', 'Organization', 'Organization', 'Organization', 'Politician', 'Politician', 'Organization', 'Organization', 'Organization', 'Organization', 'Organization', 'Organization', 'Organization', 'Politician', 'Organization', 'Person']\n",
    "\n",
    "spans = [' kadesh', ' urchatz', ' Kadesh', ' Urchatz', ' Karpas', ' Yachatz', ' Magid', ' Rochtza', ' Motzi', ' Matza', ' Maror', ' Korech', ' Shulchan orech', ' Tzafun', ' Barech', ' Halel', ' Acoustic Model', ' acoustic guitar', ' Acoustic Model', ' Acoustic Model', ' Acoustic Model', ' acoustic guitar', ' Acoustic Model', ' <<ENT>> label <<SEP>> Stock code : DIMDP130BK Stock Availability Found a Cheaper Price ?', ' <<ENT>> label <<SEP>> Stock code : DIMDP130BK Stock Availability Found a Cheaper Price ?', ' <<ENT>> label <<SEP>> Stock code : DIMDP130BK Stock Availability Found a Cheaper Price ?', ' <<ENT>> label <<SEP>> Stock code : DIMDP130BK Stock Availability Found a Cheaper Price ?', ' <<ENT>> label <<SEP>> Stock code : DIMDP130BK Stock Availability Found a Cheaper Price ?', ' <<ENT>> label <<SEP>> Stock code : DIMDP130BK Stock Availability Found a Cheaper Price ?', ' <<ENT>> label <<SEP>> Stock code : DIMDP130BK Stock Availability Found a Cheaper Price ?', ' <<ENT>> label <<SEP>> Stock code : DIMDP130BK Stock Availability Found a Cheaper Price ?', ' <<ENT>> label <<SEP>> Stock code : DIMDP130BK Stock Availability Found a Cheaper Price ?']\n",
    "labels = ['Command', 'Command', 'Command', 'Command', 'Food', 'Action', 'Person', 'Action', 'Action', 'Food', 'Food', 'Action', 'Action', 'Object', 'Command', 'Command', 'Piezo-electric transducer', 'Musical instrument', 'Piezo-electric transducer', 'Piezo-electric transducer', 'Piezo-electric transducer', 'Musical instrument', 'Piezo-electric transducer']\n",
    "for label, span in zip(labels, spans):\n",
    "    print(span, \"***\",  label)"
   ]
  }
 ],
 "metadata": {
  "kernelspec": {
   "display_name": ".venv (3.12.3)",
   "language": "python",
   "name": "python3"
  },
  "language_info": {
   "codemirror_mode": {
    "name": "ipython",
    "version": 3
   },
   "file_extension": ".py",
   "mimetype": "text/x-python",
   "name": "python",
   "nbconvert_exporter": "python",
   "pygments_lexer": "ipython3",
   "version": "3.12.3"
  }
 },
 "nbformat": 4,
 "nbformat_minor": 5
}
